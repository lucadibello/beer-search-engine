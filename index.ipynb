{
 "cells": [
  {
   "cell_type": "code",
   "execution_count": 1,
   "metadata": {},
   "outputs": [
    {
     "name": "stdout",
     "output_type": "stream",
     "text": [
      "Collecting python-terrier\n",
      "  Using cached python_terrier-0.10.0-py3-none-any.whl\n",
      "Requirement already satisfied: numpy in c:\\users\\enric\\anaconda3\\envs\\new-environment\\lib\\site-packages (from python-terrier) (1.26.1)\n",
      "Requirement already satisfied: pandas in c:\\users\\enric\\anaconda3\\envs\\new-environment\\lib\\site-packages (from python-terrier) (2.1.3)\n",
      "Requirement already satisfied: wget in c:\\users\\enric\\anaconda3\\envs\\new-environment\\lib\\site-packages (from python-terrier) (3.2)\n",
      "Requirement already satisfied: tqdm in c:\\users\\enric\\anaconda3\\envs\\new-environment\\lib\\site-packages (from python-terrier) (4.66.1)\n",
      "Requirement already satisfied: pyjnius>=1.4.2 in c:\\users\\enric\\anaconda3\\envs\\new-environment\\lib\\site-packages (from python-terrier) (1.6.1)\n",
      "Requirement already satisfied: matchpy in c:\\users\\enric\\anaconda3\\envs\\new-environment\\lib\\site-packages (from python-terrier) (0.5.5)\n",
      "Requirement already satisfied: scikit-learn in c:\\users\\enric\\anaconda3\\envs\\new-environment\\lib\\site-packages (from python-terrier) (1.3.2)\n",
      "Requirement already satisfied: deprecated in c:\\users\\enric\\anaconda3\\envs\\new-environment\\lib\\site-packages (from python-terrier) (1.2.14)\n",
      "Requirement already satisfied: chest in c:\\users\\enric\\anaconda3\\envs\\new-environment\\lib\\site-packages (from python-terrier) (0.2.3)\n",
      "Requirement already satisfied: scipy in c:\\users\\enric\\anaconda3\\envs\\new-environment\\lib\\site-packages (from python-terrier) (1.11.3)\n",
      "Requirement already satisfied: requests in c:\\users\\enric\\anaconda3\\envs\\new-environment\\lib\\site-packages (from python-terrier) (2.31.0)\n",
      "Requirement already satisfied: joblib in c:\\users\\enric\\anaconda3\\envs\\new-environment\\lib\\site-packages (from python-terrier) (1.3.2)\n",
      "Requirement already satisfied: nptyping==1.4.4 in c:\\users\\enric\\anaconda3\\envs\\new-environment\\lib\\site-packages (from python-terrier) (1.4.4)\n",
      "Requirement already satisfied: more-itertools in c:\\users\\enric\\anaconda3\\envs\\new-environment\\lib\\site-packages (from python-terrier) (10.1.0)\n",
      "Collecting ir-datasets>=0.3.2 (from python-terrier)\n",
      "  Using cached ir_datasets-0.5.5-py3-none-any.whl.metadata (12 kB)\n",
      "Requirement already satisfied: jinja2 in c:\\users\\enric\\anaconda3\\envs\\new-environment\\lib\\site-packages (from python-terrier) (3.1.2)\n",
      "Requirement already satisfied: statsmodels in c:\\users\\enric\\anaconda3\\envs\\new-environment\\lib\\site-packages (from python-terrier) (0.14.0)\n",
      "Requirement already satisfied: ir-measures>=0.3.1 in c:\\users\\enric\\anaconda3\\envs\\new-environment\\lib\\site-packages (from python-terrier) (0.3.3)\n",
      "Requirement already satisfied: dill in c:\\users\\enric\\anaconda3\\envs\\new-environment\\lib\\site-packages (from python-terrier) (0.3.7)\n",
      "Requirement already satisfied: pytrec-eval-terrier>=0.5.3 in c:\\users\\enric\\anaconda3\\envs\\new-environment\\lib\\site-packages (from python-terrier) (0.5.6)\n",
      "Requirement already satisfied: typish>=1.7.0 in c:\\users\\enric\\anaconda3\\envs\\new-environment\\lib\\site-packages (from nptyping==1.4.4->python-terrier) (1.9.3)\n",
      "Requirement already satisfied: beautifulsoup4>=4.4.1 in c:\\users\\enric\\anaconda3\\envs\\new-environment\\lib\\site-packages (from ir-datasets>=0.3.2->python-terrier) (4.12.2)\n",
      "Requirement already satisfied: inscriptis>=2.2.0 in c:\\users\\enric\\anaconda3\\envs\\new-environment\\lib\\site-packages (from ir-datasets>=0.3.2->python-terrier) (2.3.2)\n",
      "Requirement already satisfied: lxml>=4.5.2 in c:\\users\\enric\\anaconda3\\envs\\new-environment\\lib\\site-packages (from ir-datasets>=0.3.2->python-terrier) (4.9.3)\n",
      "Requirement already satisfied: pyyaml>=5.3.1 in c:\\users\\enric\\anaconda3\\envs\\new-environment\\lib\\site-packages (from ir-datasets>=0.3.2->python-terrier) (6.0.1)\n",
      "Requirement already satisfied: trec-car-tools>=2.5.4 in c:\\users\\enric\\anaconda3\\envs\\new-environment\\lib\\site-packages (from ir-datasets>=0.3.2->python-terrier) (2.6)\n",
      "Requirement already satisfied: lz4>=3.1.10 in c:\\users\\enric\\anaconda3\\envs\\new-environment\\lib\\site-packages (from ir-datasets>=0.3.2->python-terrier) (4.3.2)\n",
      "Requirement already satisfied: warc3-wet>=0.2.3 in c:\\users\\enric\\anaconda3\\envs\\new-environment\\lib\\site-packages (from ir-datasets>=0.3.2->python-terrier) (0.2.3)\n",
      "Requirement already satisfied: warc3-wet-clueweb09>=0.2.5 in c:\\users\\enric\\anaconda3\\envs\\new-environment\\lib\\site-packages (from ir-datasets>=0.3.2->python-terrier) (0.2.5)\n",
      "Requirement already satisfied: zlib-state>=0.1.3 in c:\\users\\enric\\anaconda3\\envs\\new-environment\\lib\\site-packages (from ir-datasets>=0.3.2->python-terrier) (0.1.6)\n",
      "Requirement already satisfied: ijson>=3.1.3 in c:\\users\\enric\\anaconda3\\envs\\new-environment\\lib\\site-packages (from ir-datasets>=0.3.2->python-terrier) (3.2.3)\n",
      "Requirement already satisfied: pyautocorpus>=0.1.1 in c:\\users\\enric\\anaconda3\\envs\\new-environment\\lib\\site-packages (from ir-datasets>=0.3.2->python-terrier) (0.1.12)\n",
      "Requirement already satisfied: unlzw3>=0.2.1 in c:\\users\\enric\\anaconda3\\envs\\new-environment\\lib\\site-packages (from ir-datasets>=0.3.2->python-terrier) (0.2.2)\n",
      "Requirement already satisfied: cwl-eval>=1.0.10 in c:\\users\\enric\\anaconda3\\envs\\new-environment\\lib\\site-packages (from ir-measures>=0.3.1->python-terrier) (1.0.12)\n",
      "Requirement already satisfied: charset-normalizer<4,>=2 in c:\\users\\enric\\anaconda3\\envs\\new-environment\\lib\\site-packages (from requests->python-terrier) (3.3.2)\n",
      "Requirement already satisfied: idna<4,>=2.5 in c:\\users\\enric\\anaconda3\\envs\\new-environment\\lib\\site-packages (from requests->python-terrier) (3.4)\n",
      "Requirement already satisfied: urllib3<3,>=1.21.1 in c:\\users\\enric\\anaconda3\\envs\\new-environment\\lib\\site-packages (from requests->python-terrier) (2.0.7)\n",
      "Requirement already satisfied: certifi>=2017.4.17 in c:\\users\\enric\\anaconda3\\envs\\new-environment\\lib\\site-packages (from requests->python-terrier) (2023.7.22)\n",
      "Requirement already satisfied: colorama in c:\\users\\enric\\anaconda3\\envs\\new-environment\\lib\\site-packages (from tqdm->python-terrier) (0.4.6)\n",
      "Requirement already satisfied: heapdict in c:\\users\\enric\\anaconda3\\envs\\new-environment\\lib\\site-packages (from chest->python-terrier) (1.0.1)\n",
      "Requirement already satisfied: wrapt<2,>=1.10 in c:\\users\\enric\\anaconda3\\envs\\new-environment\\lib\\site-packages (from deprecated->python-terrier) (1.16.0)\n",
      "Requirement already satisfied: MarkupSafe>=2.0 in c:\\users\\enric\\anaconda3\\envs\\new-environment\\lib\\site-packages (from jinja2->python-terrier) (2.1.3)\n",
      "Requirement already satisfied: multiset<3.0,>=2.0 in c:\\users\\enric\\anaconda3\\envs\\new-environment\\lib\\site-packages (from matchpy->python-terrier) (2.1.1)\n",
      "Requirement already satisfied: python-dateutil>=2.8.2 in c:\\users\\enric\\anaconda3\\envs\\new-environment\\lib\\site-packages (from pandas->python-terrier) (2.8.2)\n",
      "Requirement already satisfied: pytz>=2020.1 in c:\\users\\enric\\anaconda3\\envs\\new-environment\\lib\\site-packages (from pandas->python-terrier) (2023.3.post1)\n",
      "Requirement already satisfied: tzdata>=2022.1 in c:\\users\\enric\\anaconda3\\envs\\new-environment\\lib\\site-packages (from pandas->python-terrier) (2023.3)\n",
      "Requirement already satisfied: threadpoolctl>=2.0.0 in c:\\users\\enric\\anaconda3\\envs\\new-environment\\lib\\site-packages (from scikit-learn->python-terrier) (3.2.0)\n",
      "Requirement already satisfied: patsy>=0.5.2 in c:\\users\\enric\\anaconda3\\envs\\new-environment\\lib\\site-packages (from statsmodels->python-terrier) (0.5.3)\n",
      "Requirement already satisfied: packaging>=21.3 in c:\\users\\enric\\anaconda3\\envs\\new-environment\\lib\\site-packages (from statsmodels->python-terrier) (23.2)\n",
      "Requirement already satisfied: soupsieve>1.2 in c:\\users\\enric\\anaconda3\\envs\\new-environment\\lib\\site-packages (from beautifulsoup4>=4.4.1->ir-datasets>=0.3.2->python-terrier) (2.5)\n",
      "Requirement already satisfied: six in c:\\users\\enric\\anaconda3\\envs\\new-environment\\lib\\site-packages (from patsy>=0.5.2->statsmodels->python-terrier) (1.16.0)\n",
      "Requirement already satisfied: cbor>=1.0.0 in c:\\users\\enric\\anaconda3\\envs\\new-environment\\lib\\site-packages (from trec-car-tools>=2.5.4->ir-datasets>=0.3.2->python-terrier) (1.0.0)\n",
      "Using cached ir_datasets-0.5.5-py3-none-any.whl (318 kB)\n",
      "Installing collected packages: ir-datasets, python-terrier\n",
      "Successfully installed ir-datasets-0.5.5 python-terrier-0.10.0\n"
     ]
    }
   ],
   "source": [
    "!pip install python-terrier"
   ]
  },
  {
   "cell_type": "code",
   "execution_count": 2,
   "metadata": {},
   "outputs": [
    {
     "name": "stdout",
     "output_type": "stream",
     "text": [
      "Name: python-terrier\n",
      "Version: 0.10.0\n",
      "Summary: Terrier IR platform Python API\n",
      "Home-page: https://github.com/terrier-org/pyterrier\n",
      "Author: Craig Macdonald\n",
      "Author-email: craigm@dcs.gla.ac.uk\n",
      "License: \n",
      "Location: c:\\users\\enric\\anaconda3\\envs\\new-environment\\lib\\site-packages\n",
      "Requires: chest, deprecated, dill, ir-datasets, ir-measures, jinja2, joblib, matchpy, more-itertools, nptyping, numpy, pandas, pyjnius, pytrec-eval-terrier, requests, scikit-learn, scipy, statsmodels, tqdm, wget\n",
      "Required-by: \n"
     ]
    }
   ],
   "source": [
    "!pip show python-terrier"
   ]
  },
  {
   "cell_type": "code",
   "execution_count": 4,
   "metadata": {},
   "outputs": [],
   "source": [
    "# imports\n",
    "import pyterrier as pt\n",
    "if not pt.started():\n",
    "    pt.init()\n",
    "import pandas as pd\n",
    "import json"
   ]
  },
  {
   "cell_type": "code",
   "execution_count": 9,
   "metadata": {},
   "outputs": [
    {
     "name": "stdout",
     "output_type": "stream",
     "text": [
      "{'name': 'AleSmith Speedway Stout - Barrel-Aged Kopi Luwak', 'description': 'Barrel Aged Kopi Luwak Speedway Stout is our award winning year round Speedway Stout with Kopi Luwak Coffee that has been matured in premium bourbon barrels. Considered one of the world’s most expensive and rare coffee varieties, the beans are specifically selected for their ripeness and quality by the civet, a small jungle marsupial that feeds of the fruit of the coffee cherry. Good to the last dropping!', 'image_url': 'https://res.cloudinary.com/ratebeer/image/upload/w_400,c_limit,d_Default_Beer_qqrv7k.png,f_auto/beer_202442', 'price': None, 'style': None, 'critic_score': {'max': 100, 'actual': 100.00000002692344}, 'brewer': {'name': 'AleSmith Brewing Company', 'city': 'San Diego', 'country': {'code': 'US', 'name': 'United States'}, 'state': {'name': 'California'}}, 'alcohol_bv': 12.0, 'tasting_notes': None, 'closure': None, 'packaging': None}\n"
     ]
    }
   ],
   "source": [
    "json_objects = []\n",
    "with open('data/data.jsonl', 'r') as jsonl_file:\n",
    "    lines = jsonl_file.readlines()\n",
    "\n",
    "    # Use list comprehension to load each line as a JSON object\n",
    "    json_objects = [json.loads(line) for line in lines]\n",
    "print(json_objects[0])"
   ]
  },
  {
   "cell_type": "code",
   "execution_count": 14,
   "metadata": {},
   "outputs": [
    {
     "name": "stdout",
     "output_type": "stream",
     "text": [
      "  docno                                               text\n",
      "0    d1  AleSmith Speedway Stout - Barrel-Aged Kopi Luw...\n",
      "1    d2  AleSmith Speedway Stout - Barrel-Aged Vietname...\n",
      "2    d3  AleSmith Speedway Stout - Bourbon Barrel Aged ...\n",
      "3    d4  Bell's Expedition Stout - Bourbon Barrel-Aged ...\n",
      "4    d5  Cigar City Caffè Americano Double Stout (Rum B...\n"
     ]
    }
   ],
   "source": [
    "documents = []\n",
    "i = 1\n",
    "for value in json_objects:\n",
    "    text = ''\n",
    "    for field_name, field_value in value.items():\n",
    "        text+=f\"{field_value} \"\n",
    "    text = text[:-1] # Cut last empty space from string\n",
    "    documents.append({'docno': f\"d{i}\", 'text': text})\n",
    "    i = i + 1\n",
    "\n",
    "df = pd.DataFrame(documents)\n",
    "\n",
    "print(df.head())"
   ]
  }
 ],
 "metadata": {
  "kernelspec": {
   "display_name": "scrapyenv",
   "language": "python",
   "name": "python3"
  },
  "language_info": {
   "codemirror_mode": {
    "name": "ipython",
    "version": 3
   },
   "file_extension": ".py",
   "mimetype": "text/x-python",
   "name": "python",
   "nbconvert_exporter": "python",
   "pygments_lexer": "ipython3",
   "version": "3.10.13"
  }
 },
 "nbformat": 4,
 "nbformat_minor": 2
}
